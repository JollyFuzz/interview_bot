{
 "cells": [
  {
   "cell_type": "markdown",
   "id": "4fec0ab9",
   "metadata": {},
   "source": [
    "Задача: оценивать ответ пользователя, сравнивая его с эталонным ответом и давать ему обратную связь.\n",
    "\n",
    "Доп. заметки: Наверное нужны будут критерии оценки?"
   ]
  },
  {
   "cell_type": "code",
   "execution_count": 3,
   "id": "7ea8bc3a",
   "metadata": {},
   "outputs": [],
   "source": [
    "import json\n",
    "\n",
    "with open(\"sample.json\") as src:\n",
    "    data = src.read()\n",
    "\n",
    "dataset = json.loads(data)"
   ]
  },
  {
   "cell_type": "code",
   "execution_count": 5,
   "id": "9b4c6e45",
   "metadata": {},
   "outputs": [
    {
     "data": {
      "text/plain": [
       "{'question': 'Что такое SOLID принципы?',\n",
       " 'expected_answer': 'SOLID — это аббревиатура пяти принципов объектно-ориентированного проектирования: Single Responsibility Principle (SRP), Open-Closed Principle (OCP), Liskov Substitution Principle (LSP), Interface Segregation Principle (ISP), Dependency Inversion Principle (DIP).',\n",
       " 'correct_answer': 'SOLID включает пять основных принципов ООП.',\n",
       " 'incorrect_answer': 'Это принцип дизайна баз данных.'}"
      ]
     },
     "execution_count": 5,
     "metadata": {},
     "output_type": "execute_result"
    }
   ],
   "source": [
    "qa = dataset[0]\n",
    "qa"
   ]
  },
  {
   "cell_type": "markdown",
   "id": "1565287c",
   "metadata": {},
   "source": [
    "Подход при помощи пайплайна `question-answering`"
   ]
  },
  {
   "cell_type": "code",
   "execution_count": 8,
   "id": "566e304d",
   "metadata": {},
   "outputs": [
    {
     "name": "stderr",
     "output_type": "stream",
     "text": [
      "No model was supplied, defaulted to distilbert/distilbert-base-cased-distilled-squad and revision 564e9b5 (https://huggingface.co/distilbert/distilbert-base-cased-distilled-squad).\n",
      "Using a pipeline without specifying a model name and revision in production is not recommended.\n",
      "Device set to use cuda:0\n"
     ]
    },
    {
     "name": "stdout",
     "output_type": "stream",
     "text": [
      "{'score': 0.0002066891611320898, 'start': 268, 'end': 298, 'answer': 'Dependency Inversion Principle'}\n"
     ]
    }
   ],
   "source": [
    "from transformers import pipeline\n",
    "\n",
    "qa_model  = pipeline(\"question-answering\")\n",
    "\n",
    "res = qa_model(question=f\"{qa['correct_answer']}\", context=f\"Вопрос: {qa['question']}, ответ: {qa['expected_answer']}\")\n",
    "\n",
    "print(res)"
   ]
  },
  {
   "cell_type": "markdown",
   "id": "ddb7f041",
   "metadata": {},
   "source": [
    "Вывод: кажется это не очень удачный подход. "
   ]
  },
  {
   "cell_type": "code",
   "execution_count": null,
   "id": "8327133d",
   "metadata": {},
   "outputs": [],
   "source": []
  }
 ],
 "metadata": {
  "kernelspec": {
   "display_name": "venv",
   "language": "python",
   "name": "python3"
  },
  "language_info": {
   "codemirror_mode": {
    "name": "ipython",
    "version": 3
   },
   "file_extension": ".py",
   "mimetype": "text/x-python",
   "name": "python",
   "nbconvert_exporter": "python",
   "pygments_lexer": "ipython3",
   "version": "3.10.12"
  }
 },
 "nbformat": 4,
 "nbformat_minor": 5
}
